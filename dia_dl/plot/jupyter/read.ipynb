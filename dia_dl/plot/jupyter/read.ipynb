{
 "cells": [
  {
   "cell_type": "code",
   "execution_count": null,
   "metadata": {
    "metadata": {}
   },
   "outputs": [],
   "source": [
    "import pandas as pd\n",
    "proteinatlas_path = \"./proteinatlas.tsv\"\n",
    "proteinatlas = pd.read_csv(proteinatlas_path, sep='\\t')"
   ]
  },
  {
   "cell_type": "code",
   "execution_count": null,
   "metadata": {
    "metadata": {}
   },
   "outputs": [],
   "source": [
    "def generate_uniProtIds_bloodIm_bloodBm_map(proteinatlas: pd.DataFrame):\n",
    "    uniprot_to_bloodIm_and_bloodMs_map = {}\n",
    "    for uniprot, blood_ms in proteinatlas[['Uniprot', 'Blood concentration - Conc. blood MS [pg/L]']].values:\n",
    "        if not pd.isnull(uniprot) and not pd.isnull(blood_ms):\n",
    "            uniprot_to_bloodIm_and_bloodMs_map[normlize_uniprotID(uniprot)] = blood_ms\n",
    "    return uniprot_to_bloodIm_and_bloodMs_map\n",
    "\n",
    "def normlize_uniprotID(uniport_id: str):\n",
    "    \"\"\"\n",
    "        由于 proteinatlas.tsv 浓度表提供的 Uniport 列蛋白质组中蛋白质的分隔符为 \" ,\" 和图谱库中的分隔符不一致, 因此需要规范化为图谱库的格式\n",
    "\n",
    "        Parameters:\n",
    "        ---\n",
    "        -   uniport_id: 浓度表中的 uniprot_id\n",
    "\n",
    "        Returns:\n",
    "        ---\n",
    "        -   str: 规范化后的蛋白质组\n",
    "    \"\"\"\n",
    "    split_ids = uniport_id.split(\", \")\n",
    "    normlized_id = \";\".join(split_ids)\n",
    "    return sort_protein_in_group(normlized_id)\n",
    "\n",
    "def sort_protein_in_group(protein_group: str):\n",
    "    \"\"\"\n",
    "        将蛋白质组中的蛋白质进行排序, 方便后面筛选\n",
    "\n",
    "    Parameters:\n",
    "    ---\n",
    "    -   protein_group: 蛋白质组\n",
    "\n",
    "    Returns:\n",
    "    ---\n",
    "    -   str: 排序之后的蛋白质组\n",
    "    \"\"\"\n",
    "    proteins = protein_group.split(';')\n",
    "    proteins.sort()\n",
    "    sorted_protein_group = ';'.join(proteins)\n",
    "    return sorted_protein_group"
   ]
  },
  {
   "cell_type": "code",
   "execution_count": null,
   "metadata": {
    "metadata": {}
   },
   "outputs": [],
   "source": [
    "import numpy as np\n",
    "uniProtIds_bloodIm_bloodBm_map = generate_uniProtIds_bloodIm_bloodBm_map(\n",
    "    proteinatlas)\n",
    "proteins = []\n",
    "abundances = []\n",
    "for protein, abundance in uniProtIds_bloodIm_bloodBm_map.items():\n",
    "    proteins.append(protein)\n",
    "    abundances.append(abundance)\n",
    "proteins, abundances = np.array(proteins), np.array(abundances)"
   ]
  },
  {
   "cell_type": "code",
   "execution_count": null,
   "metadata": {
    "metadata": {}
   },
   "outputs": [],
   "source": [
    "sort_reverseindex = np.argsort(-abundances)\n",
    "abundances = abundances[sort_reverseindex]\n",
    "proteins = proteins[sort_reverseindex]"
   ]
  },
  {
   "cell_type": "code",
   "execution_count": null,
   "metadata": {
    "metadata": {}
   },
   "outputs": [],
   "source": [
    "for protein, abundance in zip(proteins, abundances):\n",
    "    print(protein, abundance)"
   ]
  },
  {
   "cell_type": "code",
   "execution_count": null,
   "metadata": {
    "metadata": {}
   },
   "outputs": [],
   "source": [
    "sn = np.load(\"./protein/spectronaut/dataset7.npy\", allow_pickle=True).item()\n",
    "dl = np.load(\"./protein/deeplearning/dataset7.npy\", allow_pickle=True).item()"
   ]
  },
  {
   "cell_type": "code",
   "execution_count": null,
   "metadata": {
    "metadata": {}
   },
   "outputs": [],
   "source": [
    "sn_sole, dl_sole = sn['20221114_PRO1_LS_39_50-0039_Plasma_12_0.746_A5_P3-A-5_1_11692'], dl['20221114_PRO1_LS_39_50-0039_Plasma_12_0.746_A5_P3-A-5_1_11692']"
   ]
  },
  {
   "cell_type": "code",
   "execution_count": null,
   "metadata": {
    "metadata": {}
   },
   "outputs": [],
   "source": [
    "sn_dl_overlap = sn_sole & dl_sole"
   ]
  },
  {
   "cell_type": "code",
   "execution_count": null,
   "metadata": {
    "metadata": {}
   },
   "outputs": [],
   "source": [
    "have_density = []\n",
    "density = []\n",
    "for p in sn_dl_overlap:\n",
    "    if p in proteins:\n",
    "        have_density.append(p)\n",
    "        density.append(abundances[proteins==p][0])"
   ]
  },
  {
   "cell_type": "code",
   "execution_count": null,
   "metadata": {
    "metadata": {}
   },
   "outputs": [],
   "source": [
    "have_density, density = np.array(have_density), np.array(density)\n",
    "sort_reverseindex = np.argsort(-density)\n",
    "have_density, density = have_density[sort_reverseindex], density[sort_reverseindex]"
   ]
  },
  {
   "cell_type": "code",
   "execution_count": null,
   "metadata": {
    "metadata": {}
   },
   "outputs": [],
   "source": [
    "import pandas as pd\n",
    "\n",
    "df = pd.DataFrame(columns=['protein', 'density'])\n",
    "df['protein'] = have_density\n",
    "df['density'] = density"
   ]
  },
  {
   "cell_type": "code",
   "execution_count": null,
   "metadata": {
    "metadata": {}
   },
   "outputs": [],
   "source": [
    "df.to_csv('protein_density.tsv', sep='\\t', index=None)"
   ]
  },
  {
   "cell_type": "code",
   "execution_count": null,
   "metadata": {
    "metadata": {}
   },
   "outputs": [],
   "source": [
    "library = pd.read_csv(\"./library/AD8-300S-directDIA.tsv\", sep='\\t')"
   ]
  },
  {
   "cell_type": "code",
   "execution_count": null,
   "metadata": {
    "metadata": {}
   },
   "outputs": [],
   "source": [
    "# sequences = {\n",
    "#     'P00450': 'MKILILGIFLFLCSTPAWAKEKHYYIGIIETTWDYASDHGEKKLISVDTEHSNIYLQNGPDRIGRLYKKALYLQYTDETFRTTIEKPVWLGFLGPIIKAETGDKVYVHLKNLASRPYTFHSHGITYYKEHEGAIYPDNTTDFQRADDKVYPGEQYTYMLLATEEQSPGEGDGNCVTRIYHSHIDAPKDIASGLIGPLIICKKDSLDKEKEKHIDREFVVMFSVVDENFSWYLEDNIKTYCSEPEKVDKDNEDFQESNRMYSVNGYTFGSLPGLSMCAEDRVKWYLFGMGNEVDVHAAFFHGQALTNKNYRIDTINLFPATLFDAYMVAQNPGEWMLSCQNLNHLKAGLQAFFQVQECNKSSSKDNIRGKHVRHYYIAAEEIIWNYAPSGIDIFTKENLTAPGSDSAVFFEQGTTRIGGSYKKLVYREYTDASFTNRKERGPEEEHLGILGPVIWAEVGDTIRVTFHNKGAYPLSIEPIGVRFNKNNEGTYYSPNYNPQSRSVPPSASHVAPTETFTYEWTVPKEVGPTNADPVCLAKMYYSAVDPTKDIFTGLIGPMKICKKGSLHANGRQKDVDKEFYLFPTVFDENESLLLEDNIRMFTTAPDQVDKEDEDFQESNKMHSMNGFMYGNQPGLTMCKGDSVVWYLFSAGNEADVHGIYFSGNTYLWRGERRDTANLFPQTSLTLHMWPDTEGTFNVECLTTDHYTGGMKQKYTVNQCRRQSEDSTFYLGERTYYIAAVEVEWDYSPQREWEKELHHLQEQNVSNAFLDKGEFYIGSKYKKVVYRQYTDSTFRVPVERKAEEEHLGILGPQLHADVGDKVKIIFKNMATRPYSIHAHGVQTESSTVTPTLPGETLTYVWKIPERSGAGTEDSACIPWAYYSTVDQVKDLYSGLIGPLIVCRRPYLKVFNPRRKLEFALLFLVFDENESWYLDDNIKTYSDHPEKVNKDDEEFIESNKMHAINGRMFGNLQGLTMHVGDEVNWYLMGMGNEIDLHTVHFHGHSFQYKHRGVYSSDVFDIFPGTYQTLEMFPRTPGIWLLHCHVTDHIHAGMETTYTVLQNEDTKSG',\n",
    "#     'P04275': 'MIPARFAGVLLALALILPGTLCAEGTRGRSSTARCSLFGSDFVNTFDGSMYSFAGYCSYLLAGGCQKRSFSIIGDFQNGKRVSLSVYLGEFFDIHLFVNGTVTQGDQRVSMPYASKGLYLETEAGYYKLSGEAYGFVARIDGSGNFQVLLSDRYFNKTCGLCGNFNIFAEDDFMTQEGTLTSDPYDFANSWALSSGEQWCERASPPSSSCNISSGEMQKGLWEQCQLLKSTSVFARCHPLVDPEPFVALCEKTLCECAGGLECACPALLEYARTCAQEGMVLYGWTDHSACSPVCPAGMEYRQCVSPCARTCQSLHINEMCQERCVDGCSCPEGQLLDEGLCVESTECPCVHSGKRYPPGTSLSRDCNTCICRNSQWICSNEECPGECLVTGQSHFKSFDNRYFTFSGICQYLLARDCQDHSFSIVIETVQCADDRDAVCTRSVTVRLPGLHNSLVKLKHGAGVAMDGQDVQLPLLKGDLRIQHTVTASVRLSYGEDLQMDWDGRGRLLVKLSPVYAGKTCGLCGNYNGNQGDDFLTPSGLAEPRVEDFGNAWKLHGDCQDLQKQHSDPCALNPRMTRFSEEACAVLTSPTFEACHRAVSPLPYLRNCRYDVCSCSDGRECLCGALASYAAACAGRGVRVAWREPGRCELNCPKGQVYLQCGTPCNLTCRSLSYPDEECNEACLEGCFCPPGLYMDERGDCVPKAQCPCYYDGEIFQPEDIFSDHHTMCYCEDGFMHCTMSGVPGSLLPDAVLSSPLSHRSKRSLSCRPPMVKLVCPADNLRAEGLECTKTCQNYDLECMSMGCVSGCLCPPGMVRHENRCVALERCPCFHQGKEYAPGETVKIGCNTCVCQDRKWNCTDHVCDATCSTIGMAHYLTFDGLKYLFPGECQYVLVQDYCGSNPGTFRILVGNKGCSHPSVKCKKRVTILVEGGEIELFDGEVNVKRPMKDETHFEVVESGRYIILLLGKALSVVWDRHLSISVVLKQTYQEKVCGLCGNFDGIQNNDLTSSNLQVEEDPVDFGNSWKVSSQCADTRKVPLDSSPATCHNNIMKQTMVDSSCRILTSDVFQDCNKLVDPEPYLDVCIYDTCSCESIGDCACFCDTIAAYAHVCAQHGKVVTWRTATLCPQSCEERNLRENGYECEWRYNSCAPACQVTCQHPEPLACPVQCVEGCHAHCPPGKILDELLQTCVDPEDCPVCEVAGRRFASGKKVTLNPSDPEHCQICHCDVVNLTCEACQEPGGLVVPPTDAPVSPTTLYVEDISEPPLHDFYCSRLLDLVFLLDGSSRLSEAEFEVLKAFVVDMMERLRISQKWVRVAVVEYHDGSHAYIGLKDRKRPSELRRIASQVKYAGSQVASTSEVLKYTLFQIFSKIDRPEASRITLLLMASQEPQRMSRNFVRYVQGLKKKKVIVIPVGIGPHANLKQIRLIEKQAPENKAFVLSSVDELEQQRDEIVSYLCDLAPEAPPPTLPPDMAQVTVGPGLLGVSTLGPKRNSMVLDVAFVLEGSDKIGEADFNRSKEFMEEVIQRMDVGQDSIHVTVLQYSYMVTVEYPFSEAQSKGDILQRVREIRYQGGNRTNTGLALRYLSDHSFLVSQGDREQAPNLVYMVTGNPASDEIKRLPGDIQVVPIGVGPNANVQELERIGWPNAPILIQDFETLPREAPDLVLQRCCSGEGLQIPTLSPAPDCSQPLDVILLLDGSSSFPASYFDEMKSFAKAFISKANIGPRLTQVSVLQYGSITTIDVPWNVVPEKAHLLSLVDVMQREGGPSQIGDALGFAVRYLTSEMHGARPGASKAVVILVTDVSVDSVDAAADAARSNRVTVFPIGIGDRYDAAQLRILAGPAGDSNVVKLQRIEDLPTMVTLGNSFLHKLCSGFVRICMDEDGNEKRPGDVWTLPDQCHTVTCQPDGQTLLKSHRVNCDRGLRPSCPNSQSPVKVEETCGCRWTCPCVCTGSSTRHIVTFDGQNFKLTGSCSYVLFQNKEQDLEVILHNGACSPGARQGCMKSIEVKHSALSVELHSDMEVTVNGRLVSVPYVGGNMEVNVYGAIMHEVRFNHLGHIFTFTPQNNEFQLQLSPKTFASKTYGLCGICDENGANDFMLRDGTVTTDWKTLVQEWTVQRPGQTCQPILEEQCLVPDSSHCQVLLLPLFAECHKVLAPATFYAICQQDSCHQEQVCEVIASYAHLCRTNGVCVDWRTPDFCAMSCPPSLVYNHCEHGCPRHCDGNVSSCGDHPSEGCFCPPDKVMLEGSCVPEEACTQCIGEDGVQHQFLEAWVPDHQPCQICTCLSGRKVNCTTQPCPTAKAPTCGLCEVARLRQNADQCCPEYECVCDPVSCDLPPVPHCERGLQPTLTNPGECRPNFTCACRKEECKRVSPPSCPPHRLPTLRKTQCCDEYECACNCVNSTVSCPLGYLASTATNDCGCTTTTCLPDKVCVHRSTIYPVGQFWEEGCDVCTCTDMEDAVMGLRVAQCSQKPCEDSCRSGFTYVLHEGECCGRCLPSACEVVTGSPRGDSQSSWKSVGSQWASPENPCLINECVRVKEEVFIQQRNVSCPQLEVPVCPSGFQLSCKTSACCPSCRCERMEACMLNGTVIGPGKTVMIDVCTTCRCMVQVGVISGFKLECRKTTCNPCPLGYKEENNTGECCGRCLPTACTIQLRGGQIMTLKRDETLQDGCDTHFCKVNERGEYFWEKRVTGCPPFDEHKCLAEGGKIMKIPGTCCDTCEEPECNDITARLQYVKVGSCKSEVEVDIHYCQGKCASKAMYSIDINDVQDQCSCCSPTRTEPMQVALHCTNGSVVYHEVLNAMECKCSPRKCSK',\n",
    "#     'A0A0B4J1Y8': 'MAWAPLLLTLLSLLTGSLSQPVLTQPPSASASLGASVTLTCTLSSGYSNYKVDWYQQRPGKGPRFVMRVGTGGIVGSKGDGIPDRFSVLGSGLNRYLTIKNIQEEDESDYHCGADHGSGSNFV'\n",
    "# }\n",
    "# protein_to_peptides = {}\n",
    "# for protein in sequences.keys():\n",
    "#     protein_to_peptides[protein] = set(list(library[library['UniProtIds']==protein]['StrippedPeptide']))\n",
    "\n",
    "df = pd.read_csv('./protein_density_annot-seq.tsv', sep='\\t')\n",
    "sequences = {\n",
    "    protein: sequence\n",
    "    for protein, sequence in df[['protein', 'Sequence']].to_numpy()\n",
    "}\n",
    "protein_to_peptides = {}\n",
    "for protein in sequences.keys():\n",
    "    protein_to_peptides[protein] = set(list(library[library['UniProtIds']==protein]['StrippedPeptide']))"
   ]
  },
  {
   "cell_type": "code",
   "execution_count": null,
   "metadata": {
    "metadata": {}
   },
   "outputs": [],
   "source": [
    "protein_to_peptides"
   ]
  },
  {
   "cell_type": "code",
   "execution_count": null,
   "metadata": {
    "metadata": {}
   },
   "outputs": [],
   "source": [
    "sn, dl = np.load(\"./peptide/spectronaut/dataset7.npy\", allow_pickle=True).item()['20221114_PRO1_LS_39_50-0039_Plasma_12_0.746_A5_P3-A-5_1_11692'], np.load(\"./peptide/deeplearning/dataset7.npy\", allow_pickle=True).item()['20221114_PRO1_LS_39_50-0039_Plasma_12_0.746_A5_P3-A-5_1_11692']\n",
    "method_peptides = {\n",
    "    'sn': sn,\n",
    "    'dl': dl\n",
    "}\n",
    "methods = ['sn', 'dl']"
   ]
  },
  {
   "cell_type": "code",
   "execution_count": null,
   "metadata": {
    "metadata": {}
   },
   "outputs": [],
   "source": [
    "havefind = {\n",
    "    protein: {\n",
    "        'sn': set(),\n",
    "        'dl': set()\n",
    "    }\n",
    "    for protein in protein_to_peptides.keys()\n",
    "}\n",
    "for method in methods:\n",
    "    for protein, peptides in protein_to_peptides.items():\n",
    "        for peptide in method_peptides[method]:\n",
    "            if peptide in peptides:\n",
    "                havefind[protein][method].add(peptide)"
   ]
  },
  {
   "cell_type": "code",
   "execution_count": null,
   "metadata": {
    "metadata": {}
   },
   "outputs": [],
   "source": [
    "for protein, val in havefind.items():\n",
    "    print(protein, len(val['sn']), len(val['dl']), len(val['sn'] & val['dl']))"
   ]
  },
  {
   "cell_type": "code",
   "execution_count": null,
   "metadata": {
    "metadata": {}
   },
   "outputs": [],
   "source": [
    "for protein, val in havefind.items():\n",
    "    overlap = val['sn'] & val['dl']\n",
    "    havefind[protein]['overlap'] = overlap\n",
    "    havefind[protein]['dl'] = havefind[protein]['dl'] - overlap\n",
    "    havefind[protein]['sn'] = havefind[protein]['sn'] - overlap"
   ]
  },
  {
   "cell_type": "code",
   "execution_count": null,
   "metadata": {
    "metadata": {}
   },
   "outputs": [],
   "source": [
    "havefind"
   ]
  },
  {
   "cell_type": "code",
   "execution_count": null,
   "metadata": {
    "metadata": {}
   },
   "outputs": [],
   "source": [
    "import matplotlib.pyplot as plt\n",
    "import seaborn as sns"
   ]
  },
  {
   "cell_type": "code",
   "execution_count": null,
   "metadata": {
    "metadata": {}
   },
   "outputs": [],
   "source": [
    "list(set(library[library['UniProtIds']=='A0A0B4J1Y8']['Protein Name']))"
   ]
  },
  {
   "cell_type": "code",
   "execution_count": 85,
   "metadata": {
    "metadata": {}
   },
   "outputs": [
    {
     "data": {
      "image/png": "[encoded data removed]",
      "text/plain": [
       "<Figure size 600x360 with 4 Axes>"
      ]
     },
     "metadata": {},
     "output_type": "display_data"
    }
   ],
   "source": [
    "from matplotlib.patches import Rectangle\n",
    "plt.rcParams['font.family'] = [\"Times New Roman\"]\n",
    "\n",
    "proteins = ['P02647', 'P02649', 'Q9HDC9', 'Q0VD83']\n",
    "\n",
    "# proteins = [\n",
    "#     'P02753',\n",
    "#     'P02647',\n",
    "#     'P04114',\n",
    "#     'P02652',\n",
    "#     'P06727',\n",
    "#     'P02655',\n",
    "#     'P02749',\n",
    "#     'P01031',\n",
    "#     'P02649',\n",
    "#     'P10909',\n",
    "#     'P02654',\n",
    "#     'P0DJI8',\n",
    "#     'P68871',\n",
    "#     'P02741',\n",
    "#     'Q9UGM5',\n",
    "#     'Q13790',\n",
    "#     'P61769',\n",
    "#     'P08519',\n",
    "#     'P06702',\n",
    "#     'P55056',\n",
    "#     'O00187',\n",
    "#     'Q15166',\n",
    "#     'P05109',\n",
    "#     'Q9HDC9',\n",
    "#     'Q0VD83'\n",
    "# ]\n",
    "protein_name = {\n",
    "    # 'P00450': 'CERU_HUMAN',\n",
    "    # 'P04275': 'VWF_HUMAN',\n",
    "    # 'A0A0B4J1Y8': 'LV949_HUMAN'\n",
    "    protein: name\n",
    "    for protein, name in df[['protein', 'Entry Name']].to_numpy()\n",
    "    if protein in proteins\n",
    "}\n",
    "\n",
    "found_colors = {\n",
    "    'sn': '#C82423',\n",
    "    'dl': '#2878B5',\n",
    "    'overlap': '#54B345',\n",
    "}\n",
    "\n",
    "def get_rect(start_x, start_y, width, color, alpha):\n",
    "    rect = Rectangle((start_x, start_y), width=width, height=1)\n",
    "    rect.set_facecolor(color)\n",
    "    rect.set_alpha(alpha)\n",
    "    return rect\n",
    "\n",
    "figure = plt.figure(figsize=(2, 1.2), dpi=300)\n",
    "legend = None\n",
    "for i, protein in enumerate(proteins):\n",
    "    ax = plt.subplot(len(proteins), 1, i + 1)\n",
    "    sequence = sequences[protein]\n",
    "    ax.set_xlim(0, len(sequence))\n",
    "    ax.set_axis_off()\n",
    "    full_rect = get_rect(0, 0, len(sequence), \"gray\", 0.2)\n",
    "    ax.add_patch(full_rect)\n",
    "    ax.set_ylim(0, 1)\n",
    "    for content, val in havefind[protein].items():\n",
    "        for peptide in val:\n",
    "            start_x = sequence.find(peptide)\n",
    "            rect = get_rect(start_x, 0, len(peptide), found_colors[content], 1.0)\n",
    "            ax.add_patch(rect)\n",
    "    if i == 0:\n",
    "        legend = ax.legend(labels=['deeplearning', 'spectronaut', 'both found', 'none found'], ncols=1)\n",
    "        # legend 位于 ax 的正上方中央\n",
    "        legend.get_frame().set_facecolor('none')\n",
    "        legend.get_frame().set_edgecolor('none')\n",
    "        legend.get_frame().set_linewidth(0.0)\n",
    "        # # 获取 legend 中的 handle 和 labels\n",
    "        # handles, labels = ax.get_legend_handles_labels()\n",
    "        # legend.set_bbox_to_anchor((.015, 1.05))\n",
    "        colors = ['#2878B5', '#C82423', '#54B345', '#E5E5E5']\n",
    "        for i, color in enumerate(colors):\n",
    "            legend.get_patches()[i].set_facecolor(color)\n",
    "            legend.get_patches()[i].set_alpha(1.0)\n",
    "        legend.set_bbox_to_anchor((1.07, 1.05)) \n",
    "        # legend.remove()\n",
    "    ax.text(0, 0.6, protein, fontsize=8)\n",
    "    ax.text(0, 0.1, protein_name[protein], fontsize=6)\n",
    "# figure.legend(handles, labels, bbox_to_anchor=((1.0, 0.5)))\n",
    "# figure.axes[0].legend().remove()\n",
    "figure.savefig('protein_coverage.png', dpi=1000, bbox_inches=\"tight\")\n",
    "figure.savefig('protein_coverage.svg', dpi=1000, bbox_inches=\"tight\")"
   ]
  },
  {
   "cell_type": "code",
   "execution_count": 89,
   "metadata": {
    "metadata": {}
   },
   "outputs": [
    {
     "name": "stdout",
     "output_type": "stream",
     "text": [
      "P02647: 7/4/39\n",
      "P02649: 12/2/24\n",
      "Q9HDC9: 10/0/3\n",
      "Q0VD83: 0/0/1\n"
     ]
    }
   ],
   "source": [
    "for protein in proteins:\n",
    "    print(f\"{protein}: {len(havefind[protein]['dl'])}/{len(havefind[protein]['sn'])}/{len(havefind[protein]['overlap'])}\")"
   ]
  }
 ],
 "metadata": {
  "kernelspec": {
   "display_name": "pytorch",
   "language": "python",
   "name": "python3"
  },
  "language_info": {
   "codemirror_mode": {
    "name": "ipython",
    "version": 3
   },
   "file_extension": ".py",
   "mimetype": "text/x-python",
   "name": "python",
   "nbconvert_exporter": "python",
   "pygments_lexer": "ipython3",
   "version": "3.8.17"
  }
 },
 "nbformat": 4,
 "nbformat_minor": 2
}
